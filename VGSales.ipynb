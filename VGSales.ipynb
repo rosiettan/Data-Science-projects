{
  "cells": [
    {
      "cell_type": "markdown",
      "metadata": {
        "pycharm": {
          "name": "#%% md\n"
        },
        "id": "-IaOi4EEFemz"
      },
      "source": [
        "## Q1 (30%)\n",
        "Read video games sales data from vgsales.csv file. This dataset contains a list of video games with sales greater than 100,000 copies. Fields include:\n",
        "* Rank - Ranking of overall sales\n",
        "* Name - The games name\n",
        "* Platform - Platform of the games release (i.e. PC,PS4, etc.)\n",
        "* Year - Year of the game's release\n",
        "* Genre - Genre of the game\n",
        "* Publisher - Publisher of the game\n",
        "* NA_Sales - Sales in North America (in millions)\n",
        "* EU_Sales - Sales in Europe (in millions)\n",
        "* JP_Sales - Sales in Japan (in millions)\n",
        "* Other_Sales - Sales in the rest of the world (in millions)\n",
        "* Global_Sales - Total worldwide sales.\n",
        "\n",
        "**Tasks to do:**\n",
        "1. Using the Matplotlib library build histograms and boxplots for NA_Sales, EU_Sales, JP_Sales, Other_Sales, Global_Sales?\n",
        "2. What is the average sales for each region?\n",
        "3. What is the standard deviation for each region?\n",
        "4. How many outliers (using IQR rule) we have in Global_Sales column?\n",
        "5. What is the difference between mean and median values in Global_Sales column?\n",
        "6. Remove outliers and plot histogram and boxplot again.\n",
        "7. What is the difference between mean and median now?\n",
        "8. In your opinion what happened, why difference between mean and median have changed?\n",
        "\n",
        "*Hint: use pandas to read dataset.*"
      ]
    },
    {
      "cell_type": "code",
      "execution_count": null,
      "metadata": {
        "pycharm": {
          "name": "#%%\n"
        },
        "scrolled": true,
        "id": "SPGWuLCcFem0",
        "outputId": "3401980e-c6d3-466a-c8b7-99bc76c6a765"
      },
      "outputs": [
        {
          "data": {
            "text/html": [
              "<div>\n",
              "<style scoped>\n",
              "    .dataframe tbody tr th:only-of-type {\n",
              "        vertical-align: middle;\n",
              "    }\n",
              "\n",
              "    .dataframe tbody tr th {\n",
              "        vertical-align: top;\n",
              "    }\n",
              "\n",
              "    .dataframe thead th {\n",
              "        text-align: right;\n",
              "    }\n",
              "</style>\n",
              "<table border=\"1\" class=\"dataframe\">\n",
              "  <thead>\n",
              "    <tr style=\"text-align: right;\">\n",
              "      <th></th>\n",
              "      <th>Rank</th>\n",
              "      <th>Name</th>\n",
              "      <th>Platform</th>\n",
              "      <th>Year</th>\n",
              "      <th>Genre</th>\n",
              "      <th>Publisher</th>\n",
              "      <th>NA_Sales</th>\n",
              "      <th>EU_Sales</th>\n",
              "      <th>JP_Sales</th>\n",
              "      <th>Other_Sales</th>\n",
              "      <th>Global_Sales</th>\n",
              "    </tr>\n",
              "  </thead>\n",
              "  <tbody>\n",
              "    <tr>\n",
              "      <th>0</th>\n",
              "      <td>1</td>\n",
              "      <td>Wii Sports</td>\n",
              "      <td>Wii</td>\n",
              "      <td>2006.0</td>\n",
              "      <td>Sports</td>\n",
              "      <td>Nintendo</td>\n",
              "      <td>41.49</td>\n",
              "      <td>29.02</td>\n",
              "      <td>3.77</td>\n",
              "      <td>8.46</td>\n",
              "      <td>82.74</td>\n",
              "    </tr>\n",
              "    <tr>\n",
              "      <th>1</th>\n",
              "      <td>2</td>\n",
              "      <td>Super Mario Bros.</td>\n",
              "      <td>NES</td>\n",
              "      <td>1985.0</td>\n",
              "      <td>Platform</td>\n",
              "      <td>Nintendo</td>\n",
              "      <td>29.08</td>\n",
              "      <td>3.58</td>\n",
              "      <td>6.81</td>\n",
              "      <td>0.77</td>\n",
              "      <td>40.24</td>\n",
              "    </tr>\n",
              "    <tr>\n",
              "      <th>2</th>\n",
              "      <td>3</td>\n",
              "      <td>Mario Kart Wii</td>\n",
              "      <td>Wii</td>\n",
              "      <td>2008.0</td>\n",
              "      <td>Racing</td>\n",
              "      <td>Nintendo</td>\n",
              "      <td>15.85</td>\n",
              "      <td>12.88</td>\n",
              "      <td>3.79</td>\n",
              "      <td>3.31</td>\n",
              "      <td>35.82</td>\n",
              "    </tr>\n",
              "    <tr>\n",
              "      <th>3</th>\n",
              "      <td>4</td>\n",
              "      <td>Wii Sports Resort</td>\n",
              "      <td>Wii</td>\n",
              "      <td>2009.0</td>\n",
              "      <td>Sports</td>\n",
              "      <td>Nintendo</td>\n",
              "      <td>15.75</td>\n",
              "      <td>11.01</td>\n",
              "      <td>3.28</td>\n",
              "      <td>2.96</td>\n",
              "      <td>33.00</td>\n",
              "    </tr>\n",
              "    <tr>\n",
              "      <th>4</th>\n",
              "      <td>5</td>\n",
              "      <td>Pokemon Red/Pokemon Blue</td>\n",
              "      <td>GB</td>\n",
              "      <td>1996.0</td>\n",
              "      <td>Role-Playing</td>\n",
              "      <td>Nintendo</td>\n",
              "      <td>11.27</td>\n",
              "      <td>8.89</td>\n",
              "      <td>10.22</td>\n",
              "      <td>1.00</td>\n",
              "      <td>31.37</td>\n",
              "    </tr>\n",
              "    <tr>\n",
              "      <th>...</th>\n",
              "      <td>...</td>\n",
              "      <td>...</td>\n",
              "      <td>...</td>\n",
              "      <td>...</td>\n",
              "      <td>...</td>\n",
              "      <td>...</td>\n",
              "      <td>...</td>\n",
              "      <td>...</td>\n",
              "      <td>...</td>\n",
              "      <td>...</td>\n",
              "      <td>...</td>\n",
              "    </tr>\n",
              "    <tr>\n",
              "      <th>16593</th>\n",
              "      <td>16596</td>\n",
              "      <td>Woody Woodpecker in Crazy Castle 5</td>\n",
              "      <td>GBA</td>\n",
              "      <td>2002.0</td>\n",
              "      <td>Platform</td>\n",
              "      <td>Kemco</td>\n",
              "      <td>0.01</td>\n",
              "      <td>0.00</td>\n",
              "      <td>0.00</td>\n",
              "      <td>0.00</td>\n",
              "      <td>0.01</td>\n",
              "    </tr>\n",
              "    <tr>\n",
              "      <th>16594</th>\n",
              "      <td>16597</td>\n",
              "      <td>Men in Black II: Alien Escape</td>\n",
              "      <td>GC</td>\n",
              "      <td>2003.0</td>\n",
              "      <td>Shooter</td>\n",
              "      <td>Infogrames</td>\n",
              "      <td>0.01</td>\n",
              "      <td>0.00</td>\n",
              "      <td>0.00</td>\n",
              "      <td>0.00</td>\n",
              "      <td>0.01</td>\n",
              "    </tr>\n",
              "    <tr>\n",
              "      <th>16595</th>\n",
              "      <td>16598</td>\n",
              "      <td>SCORE International Baja 1000: The Official Game</td>\n",
              "      <td>PS2</td>\n",
              "      <td>2008.0</td>\n",
              "      <td>Racing</td>\n",
              "      <td>Activision</td>\n",
              "      <td>0.00</td>\n",
              "      <td>0.00</td>\n",
              "      <td>0.00</td>\n",
              "      <td>0.00</td>\n",
              "      <td>0.01</td>\n",
              "    </tr>\n",
              "    <tr>\n",
              "      <th>16596</th>\n",
              "      <td>16599</td>\n",
              "      <td>Know How 2</td>\n",
              "      <td>DS</td>\n",
              "      <td>2010.0</td>\n",
              "      <td>Puzzle</td>\n",
              "      <td>7G//AMES</td>\n",
              "      <td>0.00</td>\n",
              "      <td>0.01</td>\n",
              "      <td>0.00</td>\n",
              "      <td>0.00</td>\n",
              "      <td>0.01</td>\n",
              "    </tr>\n",
              "    <tr>\n",
              "      <th>16597</th>\n",
              "      <td>16600</td>\n",
              "      <td>Spirits &amp; Spells</td>\n",
              "      <td>GBA</td>\n",
              "      <td>2003.0</td>\n",
              "      <td>Platform</td>\n",
              "      <td>Wanadoo</td>\n",
              "      <td>0.01</td>\n",
              "      <td>0.00</td>\n",
              "      <td>0.00</td>\n",
              "      <td>0.00</td>\n",
              "      <td>0.01</td>\n",
              "    </tr>\n",
              "  </tbody>\n",
              "</table>\n",
              "<p>16598 rows × 11 columns</p>\n",
              "</div>"
            ],
            "text/plain": [
              "        Rank                                              Name Platform  \\\n",
              "0          1                                        Wii Sports      Wii   \n",
              "1          2                                 Super Mario Bros.      NES   \n",
              "2          3                                    Mario Kart Wii      Wii   \n",
              "3          4                                 Wii Sports Resort      Wii   \n",
              "4          5                          Pokemon Red/Pokemon Blue       GB   \n",
              "...      ...                                               ...      ...   \n",
              "16593  16596                Woody Woodpecker in Crazy Castle 5      GBA   \n",
              "16594  16597                     Men in Black II: Alien Escape       GC   \n",
              "16595  16598  SCORE International Baja 1000: The Official Game      PS2   \n",
              "16596  16599                                        Know How 2       DS   \n",
              "16597  16600                                  Spirits & Spells      GBA   \n",
              "\n",
              "         Year         Genre   Publisher  NA_Sales  EU_Sales  JP_Sales  \\\n",
              "0      2006.0        Sports    Nintendo     41.49     29.02      3.77   \n",
              "1      1985.0      Platform    Nintendo     29.08      3.58      6.81   \n",
              "2      2008.0        Racing    Nintendo     15.85     12.88      3.79   \n",
              "3      2009.0        Sports    Nintendo     15.75     11.01      3.28   \n",
              "4      1996.0  Role-Playing    Nintendo     11.27      8.89     10.22   \n",
              "...       ...           ...         ...       ...       ...       ...   \n",
              "16593  2002.0      Platform       Kemco      0.01      0.00      0.00   \n",
              "16594  2003.0       Shooter  Infogrames      0.01      0.00      0.00   \n",
              "16595  2008.0        Racing  Activision      0.00      0.00      0.00   \n",
              "16596  2010.0        Puzzle    7G//AMES      0.00      0.01      0.00   \n",
              "16597  2003.0      Platform     Wanadoo      0.01      0.00      0.00   \n",
              "\n",
              "       Other_Sales  Global_Sales  \n",
              "0             8.46         82.74  \n",
              "1             0.77         40.24  \n",
              "2             3.31         35.82  \n",
              "3             2.96         33.00  \n",
              "4             1.00         31.37  \n",
              "...            ...           ...  \n",
              "16593         0.00          0.01  \n",
              "16594         0.00          0.01  \n",
              "16595         0.00          0.01  \n",
              "16596         0.00          0.01  \n",
              "16597         0.00          0.01  \n",
              "\n",
              "[16598 rows x 11 columns]"
            ]
          },
          "execution_count": 10,
          "metadata": {},
          "output_type": "execute_result"
        }
      ],
      "source": [
        "import pandas as pd\n",
        "\n",
        "vgsales = pd.read_csv('vgsales.csv')\n",
        "vgsales"
      ]
    },
    {
      "cell_type": "markdown",
      "metadata": {
        "pycharm": {
          "name": "#%% md\n"
        },
        "id": "me9w1Py4Fem1"
      },
      "source": [
        "#### 1.Using the Matplotlib library build histograms and boxplots for NA_Sales, EU_Sales, JP_Sales, Other_Sales, Global_Sales?\n"
      ]
    },
    {
      "cell_type": "code",
      "execution_count": null,
      "metadata": {
        "pycharm": {
          "name": "#%%\n"
        },
        "id": "VF3sR0ypFem1",
        "outputId": "3fbe46ed-be1c-4022-af10-bf7bacfadb4e"
      },
      "outputs": [
        {
          "data": {
            "image/png": "[encoded data removed]",
            "text/plain": [
              "<Figure size 432x288 with 1 Axes>"
            ]
          },
          "metadata": {
            "needs_background": "light"
          },
          "output_type": "display_data"
        },
        {
          "data": {
            "image/png": "[encoded data removed]",
            "text/plain": [
              "<Figure size 1800x504 with 5 Axes>"
            ]
          },
          "metadata": {
            "needs_background": "light"
          },
          "output_type": "display_data"
        },
        {
          "data": {
            "image/png": "[encoded data removed]",
            "text/plain": [
              "<Figure size 432x288 with 1 Axes>"
            ]
          },
          "metadata": {
            "needs_background": "light"
          },
          "output_type": "display_data"
        },
        {
          "data": {
            "image/png": "[encoded data removed]",
            "text/plain": [
              "<Figure size 1080x360 with 5 Axes>"
            ]
          },
          "metadata": {
            "needs_background": "light"
          },
          "output_type": "display_data"
        }
      ],
      "source": [
        "import matplotlib.pyplot as plt\n",
        "import numpy as np\n",
        "\n",
        "list_of_regions = [vgsales['NA_Sales'], vgsales['EU_Sales'], vgsales['JP_Sales'], vgsales['Other_Sales'], vgsales['Global_Sales']]\n",
        "regions = ['NA_Sales', 'EU_Sales', 'JP_Sales', 'Other_Sales', 'Global_Sales']\n",
        "colors = ['orange', 'purple', 'red', 'green', 'yellow']\n",
        "\n",
        "#Plotting the histplot with bins = 129\n",
        "plt.hist(list_of_regions, bins = 10, color = colors, log=True)\n",
        "plt.legend(['NA_Sales', 'EU_Sales', 'JP_Sales', 'Other_Sales', 'Global_Sales'])\n",
        "plt.title(\"Histogram of all regions\")\n",
        "plt.show()\n",
        "\n",
        "fig, axs = plt.subplots(1, 5, figsize=(25, 7))\n",
        "for i, region in enumerate(regions):\n",
        "    axs[i].hist(vgsales[region], bins = 30, color=colors[i], edgecolor='black', log=True, linewidth = 0.5)\n",
        "    axs[i].set_title(f\"Histogram of {region}\")\n",
        "plt.show()\n",
        "\n",
        "#Plotting the boxplot\n",
        "plt.boxplot(list_of_regions)\n",
        "plt.xticks([1, 2, 3, 4, 5],['NA_Sales', 'EU_Sales', 'JP_Sales', 'Other_Sales', 'Global_Sales'])\n",
        "plt.title(\"Boxplot of all regions\")\n",
        "plt.grid(True)\n",
        "plt.show()\n",
        "\n",
        "fig, axs = plt.subplots(1, 5, figsize=(15, 5))\n",
        "for i, region in enumerate(regions):\n",
        "    axs[i].boxplot(vgsales[region])\n",
        "    axs[i].grid(True)\n",
        "    axs[i].set_title(f\"Boxplot of {region}\")\n",
        "plt.show()"
      ]
    },
    {
      "cell_type": "markdown",
      "metadata": {
        "pycharm": {
          "name": "#%% md\n"
        },
        "id": "kcRflY5OFem1"
      },
      "source": [
        "#### 2. What is the average sales for each region?"
      ]
    },
    {
      "cell_type": "code",
      "execution_count": null,
      "metadata": {
        "pycharm": {
          "name": "#%%\n"
        },
        "id": "vtdUMoVZFem2",
        "outputId": "b99fd548-792a-4e5e-993e-e2c7fe2e38fe"
      },
      "outputs": [
        {
          "name": "stdout",
          "output_type": "stream",
          "text": [
            "The average sales for NA_Sales = 0.26466742981084057\n",
            "The average sales for EU_Sales = 0.1466520062658483\n",
            "The average sales for JP_Sales = 0.07778166044101108\n",
            "The average sales for Other_Sales = 0.048063019640913515\n",
            "The average sales for Global_Sales = 0.53744065550074\n"
          ]
        }
      ],
      "source": [
        "import pandas as pd\n",
        "vgsales = pd.read_csv(\"vgsales.csv\")\n",
        "list_of_regions = [vgsales['NA_Sales'], vgsales['EU_Sales'], vgsales['JP_Sales'], vgsales['Other_Sales'], vgsales['Global_Sales']]\n",
        "regions = ['NA_Sales', 'EU_Sales', 'JP_Sales', 'Other_Sales', 'Global_Sales']\n",
        "\n",
        "mean_of_regions = []\n",
        "for region in list_of_regions:\n",
        "    mean_of_regions.append(region.mean())\n",
        "\n",
        "for i, region in enumerate(regions):\n",
        "        print(f\"The average sales for {region} = {mean_of_regions[i]}\")"
      ]
    },
    {
      "cell_type": "markdown",
      "metadata": {
        "pycharm": {
          "name": "#%% md\n"
        },
        "id": "VL8XKQz1Fem2"
      },
      "source": [
        "#### 3. What is the standard deviation for each region?"
      ]
    },
    {
      "cell_type": "code",
      "execution_count": null,
      "metadata": {
        "pycharm": {
          "name": "#%%\n"
        },
        "id": "r92gRHY0Fem2",
        "outputId": "9f437542-b019-4d75-aee2-73d4631e6aed"
      },
      "outputs": [
        {
          "name": "stdout",
          "output_type": "stream",
          "text": [
            "The standard deviation for NA_Sales = 0.8166584270779742\n",
            "The standard deviation for EU_Sales = 0.5053360078008797\n",
            "The standard deviation for JP_Sales = 0.3092813308358745\n",
            "The standard deviation for Other_Sales = 0.1885827217691664\n",
            "The standard deviation for Global_Sales = 1.5549810910296504\n"
          ]
        }
      ],
      "source": [
        "list_of_regions = [vgsales['NA_Sales'], vgsales['EU_Sales'], vgsales['JP_Sales'], vgsales['Other_Sales'], vgsales['Global_Sales']]\n",
        "regions = ['NA_Sales', 'EU_Sales', 'JP_Sales', 'Other_Sales', 'Global_Sales']\n",
        "\n",
        "stdev_of_regions = []\n",
        "\n",
        "for region in list_of_regions:\n",
        "    stdev_of_regions.append(np.std(region))\n",
        "\n",
        "for i, region in enumerate(regions):\n",
        "        print(f\"The standard deviation for {region} = {stdev_of_regions[i]}\")"
      ]
    },
    {
      "cell_type": "markdown",
      "metadata": {
        "pycharm": {
          "name": "#%% md\n"
        },
        "id": "AXsvXGx-Fem2"
      },
      "source": [
        "#### 4. How many outliers (using IQR rule) we have in Global_Sales column?\n",
        "Reference: Finding outliers in dataset  https://medium.datadriveninvestor.com/finding-outliers-in-dataset-using-python-efc3fce6ce32"
      ]
    },
    {
      "cell_type": "code",
      "execution_count": null,
      "metadata": {
        "pycharm": {
          "name": "#%%\n"
        },
        "id": "-_JxQ0P8Fem2",
        "outputId": "5d54bdfe-cdb9-4e8e-caf2-d3402fea6657"
      },
      "outputs": [
        {
          "name": "stdout",
          "output_type": "stream",
          "text": [
            "1893 outliers in Global_Sales\n"
          ]
        }
      ],
      "source": [
        "Q1, Q3 = np.percentile(vgsales['Global_Sales'], [25, 75])\n",
        "IQR = Q3 - Q1\n",
        "lower_bound = Q1 - 1.5 * IQR\n",
        "upper_bound = Q3 + 1.5 * IQR\n",
        "outliers = 0\n",
        "for i in vgsales['Global_Sales']:\n",
        "    if i < lower_bound or i > upper_bound:\n",
        "        outliers += 1\n",
        "print(outliers, \"outliers in Global_Sales\")"
      ]
    },
    {
      "cell_type": "markdown",
      "metadata": {
        "pycharm": {
          "name": "#%% md\n"
        },
        "id": "6pPpjfhuFem3"
      },
      "source": [
        "#### 5. What is the difference between mean and median values in Global_Sales column?\n"
      ]
    },
    {
      "cell_type": "code",
      "execution_count": null,
      "metadata": {
        "pycharm": {
          "name": "#%%\n"
        },
        "id": "WZqN8diVFem3",
        "outputId": "5efeb9a2-c73b-41b1-b3e4-67d79e28dfdc"
      },
      "outputs": [
        {
          "name": "stdout",
          "output_type": "stream",
          "text": [
            "The difference between mean and median values in Global_Sales = 0.36744065550074\n"
          ]
        }
      ],
      "source": [
        "difference = np.mean(vgsales['Global_Sales']) - np.median(vgsales['Global_Sales'])\n",
        "print(\"The difference between mean and median values in Global_Sales =\", difference)"
      ]
    },
    {
      "cell_type": "markdown",
      "metadata": {
        "pycharm": {
          "name": "#%% md\n"
        },
        "id": "lanQTMvzFem3"
      },
      "source": [
        "#### 6. Remove outliers and plot histogram and boxplot again.\n"
      ]
    },
    {
      "cell_type": "code",
      "execution_count": null,
      "metadata": {
        "pycharm": {
          "name": "#%%\n"
        },
        "id": "G2fDmyRmFem3",
        "outputId": "aa3250c5-4b7d-4c20-d508-500df0d4dfb1"
      },
      "outputs": [
        {
          "data": {
            "image/png": "[encoded data removed]",
            "text/plain": [
              "<Figure size 1800x504 with 5 Axes>"
            ]
          },
          "metadata": {
            "needs_background": "light"
          },
          "output_type": "display_data"
        },
        {
          "data": {
            "image/png": "[encoded data removed]",
            "text/plain": [
              "<Figure size 1800x576 with 5 Axes>"
            ]
          },
          "metadata": {
            "needs_background": "light"
          },
          "output_type": "display_data"
        }
      ],
      "source": [
        "regions = ['NA_Sales', 'EU_Sales', 'JP_Sales', 'Other_Sales', 'Global_Sales']\n",
        "colors = ['orange', 'purple', 'red', 'green', 'yellow']\n",
        "\n",
        "vgsales_no_outliers = []\n",
        "for region in regions:\n",
        "    Q1, Q3 = np.percentile(vgsales[region], [25, 75])\n",
        "    IQR = Q3 - Q1\n",
        "    lower_bound = Q1 - 1.5*IQR\n",
        "    upper_bound = Q3 + 1.5*IQR\n",
        "    no_outliers = vgsales[(vgsales[region] > lower_bound) & (vgsales[region] < upper_bound)]\n",
        "    vgsales_no_outliers.append(no_outliers)\n",
        "\n",
        "\n",
        "#Plotting the histplot\n",
        "fig, axs = plt.subplots(1, 5, figsize=(25, 7))\n",
        "for i, region in enumerate(regions):\n",
        "    axs[i].hist(vgsales_no_outliers[i][region], bins = 30, color = colors[i], edgecolor='black', log=True, linewidth = 0.5)\n",
        "    axs[i].set_title(f\"Histogram of {region} without outliers\")\n",
        "plt.show()\n",
        "\n",
        "\n",
        "#Plotting the boxplot\n",
        "fig, axs = plt.subplots(1, 5, figsize=(25, 8))\n",
        "for i, region in enumerate(regions):\n",
        "    axs[i].boxplot(vgsales_no_outliers[i][region])\n",
        "    axs[i].grid(True)\n",
        "    axs[i].set_title(f\"Boxplot of {region} without outliers\")\n",
        "plt.show()"
      ]
    },
    {
      "cell_type": "markdown",
      "metadata": {
        "pycharm": {
          "name": "#%% md\n"
        },
        "id": "EpbW4H2YFem3"
      },
      "source": [
        "#### 7. What is the difference between mean and median now?\n"
      ]
    },
    {
      "cell_type": "code",
      "execution_count": null,
      "metadata": {
        "pycharm": {
          "name": "#%%\n"
        },
        "id": "ld2SWEepFem3",
        "outputId": "58aeaa57-9f07-4f47-b838-588e28ab95e9"
      },
      "outputs": [
        {
          "name": "stdout",
          "output_type": "stream",
          "text": [
            "The difference between mean and median now for NA_Sales = 0.05130986766976796\n",
            "The difference between mean and median now for EU_Sales = 0.023130812151265136\n",
            "The difference between mean and median now for JP_Sales = 0.009547107909564107\n",
            "The difference between mean and median now for Other_Sales = 0.005533658404441784\n",
            "The difference between mean and median now for Global_Sales = 0.09147432845973633\n"
          ]
        }
      ],
      "source": [
        "regions = ['NA_Sales', 'EU_Sales', 'JP_Sales', 'Other_Sales', 'Global_Sales']\n",
        "colors = ['orange', 'purple', 'red', 'green', 'yellow']\n",
        "\n",
        "vgsales_no_outliers = []\n",
        "for region in regions:\n",
        "    Q1, Q3 = np.percentile(vgsales[region], [25, 75])\n",
        "    IQR = Q3 - Q1\n",
        "    lower_bound = Q1 - 1.5*IQR\n",
        "    upper_bound = Q3 + 1.5*IQR\n",
        "    no_outliers = vgsales[(vgsales[region] > lower_bound) & (vgsales[region] < upper_bound)]\n",
        "    vgsales_no_outliers.append(no_outliers)\n",
        "\n",
        "for i, region in enumerate(regions):\n",
        "    mean_value = vgsales_no_outliers[i][region].mean()\n",
        "    median_value = vgsales_no_outliers[i][region].median()\n",
        "    new_difference = mean_value - median_value\n",
        "    print(f\"The difference between mean and median now for {region} = {new_difference}\")"
      ]
    },
    {
      "cell_type": "markdown",
      "metadata": {
        "pycharm": {
          "name": "#%% md\n"
        },
        "id": "lAiYB6kGFem3"
      },
      "source": [
        "#### 8. In your opinion what happened, why difference between mean and median have changed?\n",
        "\n",
        "The difference between with outliers and without outliers is significant = 0.27596632704100366, because outliers have a more considerable impact on the mean, than on the median.\n",
        "\n",
        "The main reason why difference between mean and median have changed:\n",
        "- the mean is calculated by sum(values)/len(values). This means that, if there is an outlier with a much higher or lower value than the rest of the dataset, it can skew the mean.\n",
        "- the median is the middle value of sorted in ascending or descending order dataset. It is not affected by outliers as much because it only considers the middle value.\n",
        "\n",
        "The difference between mean and median for Global_Sales without outliers is decreased, because I've removed extreme values, and hence, the mean was less affected by the extreme values."
      ]
    },
    {
      "cell_type": "markdown",
      "metadata": {
        "pycharm": {
          "name": "#%% md\n"
        },
        "id": "fflvuUDaFem4"
      },
      "source": [
        "## Q2 (20%)\n",
        "We have a sample data about GPA for two groups of students (software engineers and big data analytics), which are presented in the lists below. Based on these data, do the following:\n",
        "1. Construct 95% confidence interval for the population mean of software engineer students' GPA. State all the assumptions.\n",
        "2. Is there an evidence that average GPA for this group is larger than 2.9?\n",
        "3. Construct 95% confidence interval for difference between two population means of GPA. State all the assumptions.\n",
        "4. Is there an evidence that one group has higher average GPA than another? If yes, which group performs better?\n",
        "5. How your analysis would change in Task 1, if the sample size was 30? What if 20? Explain.\n",
        "\n",
        "*Note: do not use too many cells for one task. For theoretical question use markdown cells.*"
      ]
    },
    {
      "cell_type": "code",
      "execution_count": null,
      "metadata": {
        "pycharm": {
          "name": "#%%\n"
        },
        "id": "OeVCAAV9Fem4"
      },
      "outputs": [],
      "source": [
        "gpa_se = [3.54, 3.17, 2.68, 3.08, 3.43, 3.11, 3.33, 2.70, 3.29, 3.94, 3.50, 3.07, 3.05,\n",
        "          3.33, 3.37, 3.25, 2.90, 3.05, 3.55, 2.63, 3.03, 2.94, 2.80, 3.05, 2.91, 3.22,\n",
        "          3.21, 3.09, 3.09, 3.06, 3.29, 3.12, 2.90, 3.42, 3.47, 2.99, 3.35, 2.94, 3.03,\n",
        "          2.71, 3.09, 3.51, 3.73, 2.92, 3.47, 3.14, 3.19, 3.23, 2.35, 3.06, 3.71, 3.44]"
      ]
    },
    {
      "cell_type": "code",
      "execution_count": null,
      "metadata": {
        "pycharm": {
          "name": "#%%\n"
        },
        "id": "-f0D5QCeFem4"
      },
      "outputs": [],
      "source": [
        "gpa_bda = [3.16, 3.40, 3.61, 3.37, 3.24, 3.40, 3.00, 2.78, 3.22, 3.43, 3.32, 3.58,\n",
        "           3.46, 3.45, 3.52, 3.13, 3.13, 3.81, 3.22, 3.65, 2.65, 3.51, 3.94, 3.86,\n",
        "           3.30, 3.31, 3.45, 3.17, 3.57, 3.90, 3.54, 3.41, 3.39, 3.99, 3.24, 3.50,\n",
        "           3.44, 3.55, 3.40, 3.17, 3.18, 3.67, 3.64, 3.29, 3.32, 3.19, 2.71, 3.79,\n",
        "           3.12, 3.32, 3.17, 3.38, 3.76, 3.19, 3.47, 3.41, 3.01, 3.47, 2.72, 3.16]"
      ]
    },
    {
      "cell_type": "markdown",
      "metadata": {
        "pycharm": {
          "name": "#%% md\n"
        },
        "id": "dXfNS977Fem4"
      },
      "source": [
        "#### 1. Construct 95% confidence interval for the population mean of software engineer students' GPA. State all the assumptions.\n",
        "Reference: lecture code"
      ]
    },
    {
      "cell_type": "code",
      "execution_count": null,
      "metadata": {
        "pycharm": {
          "name": "#%%\n"
        },
        "id": "kzobuoeyFem4",
        "outputId": "343d1b90-2cda-453b-9e1d-9823e7655f7a"
      },
      "outputs": [
        {
          "name": "stdout",
          "output_type": "stream",
          "text": [
            "95% Confidence interval: (3.080584238969275, 3.2436465302614947)\n"
          ]
        }
      ],
      "source": [
        "import numpy as np\n",
        "import scipy.stats as st\n",
        "\n",
        "confidence_95 = st.norm.interval(alpha=0.95,\n",
        "                 loc=np.mean(gpa_se),\n",
        "                 scale=st.sem(gpa_se))\n",
        "print(\"95% Confidence interval:\", confidence_95)"
      ]
    },
    {
      "cell_type": "markdown",
      "metadata": {
        "pycharm": {
          "name": "#%% md\n"
        },
        "id": "9pFfhgvXFem4"
      },
      "source": [
        "#### 2. Is there an evidence that average GPA for this group is larger than 2.9?\n",
        "\n",
        "According to 95% confidence interval for the population mean of software engineer students' GPA, we can see 2.9 isn't included in interval (3.080584238969275, 3.2436465302614947). Therefore, there is evidence that the average GPA for the group of software engineer students is larger than 2.9."
      ]
    },
    {
      "cell_type": "markdown",
      "metadata": {
        "pycharm": {
          "name": "#%% md\n"
        },
        "id": "vefn-hxzFem4"
      },
      "source": [
        "#### 3. Construct 95% confidence interval for difference between two population means of GPA. State all the assumptions."
      ]
    },
    {
      "cell_type": "code",
      "execution_count": null,
      "metadata": {
        "pycharm": {
          "name": "#%%\n"
        },
        "id": "UjPQ1xdrFem4",
        "outputId": "026226b7-7b36-4040-c0ac-6a42f04c3458"
      },
      "outputs": [
        {
          "name": "stdout",
          "output_type": "stream",
          "text": [
            "95% confidence interval for the difference in population means: (0.09733719774721605, 0.3164320330220137)\n"
          ]
        }
      ],
      "source": [
        "import numpy as np\n",
        "from scipy import stats\n",
        "\n",
        "range = np.mean(gpa_bda) - np.mean(gpa_se)\n",
        "range_std = ((np.std(gpa_bda) **2 / len(gpa_bda)) + (np.std(gpa_se) **2 / len(gpa_se))) ** 0.5\n",
        "critical_value = stats.t.ppf(0.975, len(gpa_se) + len(gpa_bda) - 2)\n",
        "\n",
        "confidence_interval = (range - critical_value * range_std, range + critical_value * range_std)\n",
        "\n",
        "print(\"95% confidence interval for the difference in population means:\", confidence_interval)\n"
      ]
    },
    {
      "cell_type": "markdown",
      "metadata": {
        "pycharm": {
          "name": "#%% md\n"
        },
        "id": "YxOaDWcGFem5"
      },
      "source": [
        "#### 4. Is there an evidence that one group has higher average GPA than another? If yes, which group performs better?\n",
        "Reference: https://docs.scipy.org/doc/scipy/reference/generated/scipy.stats.ttest_ind.html\n",
        "\n",
        "Yes. Since p-value is less than 0.05, then two groups have different GPA scores. According to mean values, we can see, that BDA group has higher average GPA than SE group."
      ]
    },
    {
      "cell_type": "code",
      "execution_count": null,
      "metadata": {
        "pycharm": {
          "name": "#%%\n"
        },
        "id": "scRrMnnaFem5",
        "outputId": "baacfd30-a7ca-46b2-9827-95da0a37848f"
      },
      "outputs": [
        {
          "name": "stdout",
          "output_type": "stream",
          "text": [
            "p-value:  0.0003159134455187454\n",
            "The average GPA of SE group = 3.16\n",
            "The average GPA of BDA group = 3.37\n",
            "BDA group has higher average GPA than SE group\n"
          ]
        }
      ],
      "source": [
        "import scipy.stats as stats\n",
        "\n",
        "mean_se = np.mean(gpa_se)\n",
        "mean_bda = np.mean(gpa_bda)\n",
        "\n",
        "t_statistics, p_value = stats.ttest_ind(gpa_se, gpa_bda)\n",
        "print(\"p-value: \", p_value)\n",
        "\n",
        "print(\"The average GPA of SE group =\", round(mean_se, 2))\n",
        "print(\"The average GPA of BDA group =\", round(mean_bda, 2))\n",
        "\n",
        "if mean_se > mean_bda:\n",
        "    print(\"SE group has higher average GPA than BDA group\")\n",
        "else:\n",
        "    print(\"BDA group has higher average GPA than SE group\")"
      ]
    },
    {
      "cell_type": "markdown",
      "metadata": {
        "pycharm": {
          "name": "#%% md\n"
        },
        "id": "2VneBb8rFem5"
      },
      "source": [
        "#### 5. How your analysis would change in Task 1, if the sample size was 30? What if 20? Explain.\n",
        "- If the sample size was 30, then standard deviation of the sample means would decrease, and thus the width of the confidence interval.\n",
        "- If the sample size was 20, then we use the t-test and the standard deviation of the sample means would increase, and thus the width of the confidence interval."
      ]
    },
    {
      "cell_type": "markdown",
      "metadata": {
        "pycharm": {
          "name": "#%% md\n"
        },
        "id": "kYsi7a58Fem5"
      },
      "source": [
        "## Q3 (10%)\n",
        "Consider the set of data below (my_list). Does it appear to approximately follow a normal distribution? Justify your answer.\n",
        "\n",
        "*Hint: Check for the properties of the Normal distribution and for the graph of distribtuion.*"
      ]
    },
    {
      "cell_type": "code",
      "execution_count": null,
      "metadata": {
        "pycharm": {
          "name": "#%%\n"
        },
        "id": "V8QrlIiMFem5"
      },
      "outputs": [],
      "source": [
        "my_list = [113, 71, 89, 143, 140, 146, 122, 104, 134, 143, 110, 131, 125, 116,\n",
        "           164, 107, 113, 122, 119, 116, 98, 161, 128, 152, 116, 83, 86, 155,\n",
        "           128, 122, 95, 122, 131, 134, 107, 113, 101, 92, 134, 140]"
      ]
    },
    {
      "cell_type": "code",
      "execution_count": null,
      "metadata": {
        "pycharm": {
          "name": "#%%\n"
        },
        "id": "Pm6KCuW4Fem5",
        "outputId": "a36daa65-e44d-4063-8495-3d4d2c19f9bf"
      },
      "outputs": [
        {
          "data": {
            "image/png": "[encoded data removed]",
            "text/plain": [
              "<Figure size 432x288 with 1 Axes>"
            ]
          },
          "metadata": {
            "needs_background": "light"
          },
          "output_type": "display_data"
        },
        {
          "name": "stdout",
          "output_type": "stream",
          "text": [
            "Mean: 120.65\n",
            "Median: 122.0\n",
            "Mode: ModeResult(mode=array([122]), count=array([4]))\n"
          ]
        }
      ],
      "source": [
        "import matplotlib.pyplot as plt\n",
        "import numpy as np\n",
        "import scipy.stats\n",
        "\n",
        "plt.hist(my_list, bins = 15, density=True, color='orange', edgecolor='black')\n",
        "x = np.linspace(np.mean(my_list) - 3 * np.std(my_list), np.mean(my_list) + 3 * np.std(my_list), 100)\n",
        "plt.plot(x, scipy.stats.norm.pdf(x, np.mean(my_list), np.std(my_list)), 'g')\n",
        "plt.title('Histogram of my_list')\n",
        "plt.show()\n",
        "\n",
        "print(f\"Mean: {np.mean(my_list)}\")\n",
        "print(f\"Median: {np.median(my_list)}\")\n",
        "print(f\"Mode: {scipy.stats.mode(my_list)}\")"
      ]
    },
    {
      "cell_type": "markdown",
      "metadata": {
        "pycharm": {
          "name": "#%% md\n"
        },
        "id": "04PxnPyaFem6"
      },
      "source": [
        "References: https://soc.utah.edu/sociology3112/normal-distribution.php ,\n",
        "https://docs.scipy.org/doc/scipy/reference/generated/scipy.stats.norm.html\n",
        "\n",
        "Since mean, mode and meadian approximately similar, graph of given set of data is follows to normal distribution."
      ]
    },
    {
      "cell_type": "markdown",
      "metadata": {
        "pycharm": {
          "name": "#%% md\n"
        },
        "id": "OZIZU-dLFem6"
      },
      "source": [
        "## Q4 (10%)\n",
        "Generate synthetic data (numpy.random.normal) with mean = 70, std = 12 and size = 1000 (round it to nearest integer).\n",
        "\n",
        "__Tasks to do:__\n",
        "1. Plot histogram\n",
        "2. What is the mean, median and mode\n",
        "3. Build function to calculate standard deviation using standard Python functionality\n",
        "4. Calculate std. using your function and compare it with numpy function"
      ]
    },
    {
      "cell_type": "code",
      "execution_count": null,
      "metadata": {
        "pycharm": {
          "name": "#%%\n"
        },
        "id": "64EuV7-NFem6",
        "outputId": "ce61fd9f-65a9-4779-c4c7-84227238ff6d"
      },
      "outputs": [
        {
          "data": {
            "image/png": "[encoded data removed]",
            "text/plain": [
              "<Figure size 432x288 with 1 Axes>"
            ]
          },
          "metadata": {
            "needs_background": "light"
          },
          "output_type": "display_data"
        },
        {
          "name": "stdout",
          "output_type": "stream",
          "text": [
            "Mean: 70.43682939829789\n",
            "Median: 70.60194322003369\n",
            "Mode: 47.613229491536764\n",
            "Standard deviation from scratch: 12.215440680024933\n",
            "Standard deviation with using numpy: 12.215440680024932\n",
            "Standard deviations from scratch and numpy are similar: False\n"
          ]
        }
      ],
      "source": [
        "import matplotlib.pyplot as plt\n",
        "import numpy as np\n",
        "import statistics\n",
        "\n",
        "synt_data = np.random.normal(70, 12, 1000)\n",
        "\n",
        "plt.hist(synt_data, bins = 50, color='green',edgecolor = 'black')\n",
        "plt.show()\n",
        "\n",
        "print(\"Mean:\", synt_data.mean())\n",
        "print(\"Median:\", np.median(synt_data))\n",
        "print(\"Mode:\", statistics.mode(synt_data))\n",
        "\n",
        "def standard_deviation(synt_data):\n",
        "    summa = 0\n",
        "    for i in synt_data:\n",
        "        summa += ((i - synt_data.mean())**2)\n",
        "    st_dev = (summa / len(synt_data)) ** 0.5\n",
        "    return st_dev\n",
        "\n",
        "print(\"Standard deviation from scratch:\", standard_deviation(synt_data))\n",
        "\n",
        "print(\"Standard deviation with using numpy:\", np.std(synt_data))\n",
        "\n",
        "print(\"Standard deviations from scratch and numpy are similar:\", standard_deviation == np.std(synt_data))"
      ]
    },
    {
      "cell_type": "markdown",
      "metadata": {
        "pycharm": {
          "name": "#%% md\n"
        },
        "id": "gkOp4l1KFem6"
      },
      "source": [
        "## Q5 (30%)\n",
        "Verify the properties of Central Limit Theorem in Python using population.csv file.\n",
        "\n",
        "__Tasks to do:__\n",
        "1. Read the dataset and print it.\n",
        "2. Extract Weight column from the dataset and see the distribution using Seaborn Library.\n",
        "3. Find out the mean and standard deviation of the weight column.\n",
        "4. Take a sample size of 30 members from the dataset (weight column). Find out the mean of sample. Compare with original mean and give comment.    \n",
        "5. Create 1000 such samples and  find out the mean values. Assign it to a variable and store the mean values in a Series using Pandas.\n",
        "6. Find out the mean and standard deviation of all the 1000 samples. Compare with with original mean and standard deviation. Comment your results."
      ]
    },
    {
      "cell_type": "code",
      "execution_count": null,
      "metadata": {
        "pycharm": {
          "name": "#%%\n"
        },
        "id": "4ERA1nVFFem6",
        "outputId": "85914647-1121-4d1f-e5f4-79a0fb48a866"
      },
      "outputs": [
        {
          "data": {
            "text/html": [
              "<div>\n",
              "<style scoped>\n",
              "    .dataframe tbody tr th:only-of-type {\n",
              "        vertical-align: middle;\n",
              "    }\n",
              "\n",
              "    .dataframe tbody tr th {\n",
              "        vertical-align: top;\n",
              "    }\n",
              "\n",
              "    .dataframe thead th {\n",
              "        text-align: right;\n",
              "    }\n",
              "</style>\n",
              "<table border=\"1\" class=\"dataframe\">\n",
              "  <thead>\n",
              "    <tr style=\"text-align: right;\">\n",
              "      <th></th>\n",
              "      <th>Player</th>\n",
              "      <th>Height</th>\n",
              "      <th>Weight</th>\n",
              "      <th>Age</th>\n",
              "      <th>School</th>\n",
              "      <th>BDate</th>\n",
              "    </tr>\n",
              "  </thead>\n",
              "  <tbody>\n",
              "    <tr>\n",
              "      <th>0</th>\n",
              "      <td>Vitor Faverani</td>\n",
              "      <td>83</td>\n",
              "      <td>260</td>\n",
              "      <td>25</td>\n",
              "      <td>None</td>\n",
              "      <td>5/5/1988</td>\n",
              "    </tr>\n",
              "    <tr>\n",
              "      <th>1</th>\n",
              "      <td>Avery Bradley</td>\n",
              "      <td>74</td>\n",
              "      <td>180</td>\n",
              "      <td>22</td>\n",
              "      <td>Texas</td>\n",
              "      <td>11/26/1990</td>\n",
              "    </tr>\n",
              "    <tr>\n",
              "      <th>2</th>\n",
              "      <td>Keith Bogans</td>\n",
              "      <td>77</td>\n",
              "      <td>215</td>\n",
              "      <td>33</td>\n",
              "      <td>Kentucky</td>\n",
              "      <td>5/12/1980</td>\n",
              "    </tr>\n",
              "    <tr>\n",
              "      <th>3</th>\n",
              "      <td>Jared Sullinger</td>\n",
              "      <td>81</td>\n",
              "      <td>260</td>\n",
              "      <td>21</td>\n",
              "      <td>Ohio State</td>\n",
              "      <td>3/4/1992</td>\n",
              "    </tr>\n",
              "    <tr>\n",
              "      <th>4</th>\n",
              "      <td>Jeff Green</td>\n",
              "      <td>81</td>\n",
              "      <td>235</td>\n",
              "      <td>27</td>\n",
              "      <td>Georgetown</td>\n",
              "      <td>8/28/1986</td>\n",
              "    </tr>\n",
              "    <tr>\n",
              "      <th>...</th>\n",
              "      <td>...</td>\n",
              "      <td>...</td>\n",
              "      <td>...</td>\n",
              "      <td>...</td>\n",
              "      <td>...</td>\n",
              "      <td>...</td>\n",
              "    </tr>\n",
              "    <tr>\n",
              "      <th>500</th>\n",
              "      <td>Luc Mbah a Moute</td>\n",
              "      <td>80</td>\n",
              "      <td>230</td>\n",
              "      <td>27</td>\n",
              "      <td>UCLA</td>\n",
              "      <td>9/9/1986</td>\n",
              "    </tr>\n",
              "    <tr>\n",
              "      <th>501</th>\n",
              "      <td>Jason Thompson</td>\n",
              "      <td>83</td>\n",
              "      <td>250</td>\n",
              "      <td>27</td>\n",
              "      <td>Rider</td>\n",
              "      <td>7/21/1986</td>\n",
              "    </tr>\n",
              "    <tr>\n",
              "      <th>502</th>\n",
              "      <td>Chuck Hayes</td>\n",
              "      <td>78</td>\n",
              "      <td>238</td>\n",
              "      <td>30</td>\n",
              "      <td>Kentucky</td>\n",
              "      <td>6/11/1983</td>\n",
              "    </tr>\n",
              "    <tr>\n",
              "      <th>503</th>\n",
              "      <td>Cole Aldrich</td>\n",
              "      <td>83</td>\n",
              "      <td>245</td>\n",
              "      <td>24</td>\n",
              "      <td>Kansas</td>\n",
              "      <td>10/31/1988</td>\n",
              "    </tr>\n",
              "    <tr>\n",
              "      <th>504</th>\n",
              "      <td>James Johnson</td>\n",
              "      <td>81</td>\n",
              "      <td>248</td>\n",
              "      <td>26</td>\n",
              "      <td>Wake Forest</td>\n",
              "      <td>2/20/1987</td>\n",
              "    </tr>\n",
              "  </tbody>\n",
              "</table>\n",
              "<p>505 rows × 6 columns</p>\n",
              "</div>"
            ],
            "text/plain": [
              "               Player  Height  Weight  Age       School       BDate\n",
              "0      Vitor Faverani      83     260   25         None    5/5/1988\n",
              "1       Avery Bradley      74     180   22        Texas  11/26/1990\n",
              "2        Keith Bogans      77     215   33     Kentucky   5/12/1980\n",
              "3     Jared Sullinger      81     260   21   Ohio State    3/4/1992\n",
              "4          Jeff Green      81     235   27   Georgetown   8/28/1986\n",
              "..                ...     ...     ...  ...          ...         ...\n",
              "500  Luc Mbah a Moute      80     230   27         UCLA    9/9/1986\n",
              "501    Jason Thompson      83     250   27        Rider   7/21/1986\n",
              "502       Chuck Hayes      78     238   30     Kentucky   6/11/1983\n",
              "503      Cole Aldrich      83     245   24       Kansas  10/31/1988\n",
              "504     James Johnson      81     248   26  Wake Forest   2/20/1987\n",
              "\n",
              "[505 rows x 6 columns]"
            ]
          },
          "execution_count": 26,
          "metadata": {},
          "output_type": "execute_result"
        }
      ],
      "source": [
        "import pandas as pd\n",
        "import numpy as np\n",
        "import matplotlib.pyplot as plt\n",
        "import seaborn as sns\n",
        "import scipy.stats as stats\n",
        "import random\n",
        "%matplotlib inline\n",
        "\n",
        "import warnings\n",
        "warnings.filterwarnings(\"ignore\")\n",
        "\n",
        "population = pd.read_csv('population.csv')\n",
        "population"
      ]
    },
    {
      "cell_type": "markdown",
      "metadata": {
        "pycharm": {
          "name": "#%% md\n"
        },
        "id": "ccw9mmtTFem6"
      },
      "source": [
        "#### 2. Extract Weight column from the dataset and see the distribution using Seaborn Library."
      ]
    },
    {
      "cell_type": "code",
      "execution_count": null,
      "metadata": {
        "pycharm": {
          "name": "#%%\n"
        },
        "id": "snLdUbT8Fem6",
        "outputId": "7ae3a87c-7d2c-480d-8f52-00b65bff5a9c"
      },
      "outputs": [
        {
          "data": {
            "text/plain": [
              "<AxesSubplot:xlabel='Weight', ylabel='Density'>"
            ]
          },
          "execution_count": 27,
          "metadata": {},
          "output_type": "execute_result"
        },
        {
          "data": {
            "image/png": "[encoded data removed]",
            "text/plain": [
              "<Figure size 432x288 with 1 Axes>"
            ]
          },
          "metadata": {
            "needs_background": "light"
          },
          "output_type": "display_data"
        }
      ],
      "source": [
        "weights = population['Weight']\n",
        "sns.distplot(weights)"
      ]
    },
    {
      "cell_type": "code",
      "execution_count": null,
      "metadata": {
        "pycharm": {
          "name": "#%%\n"
        },
        "id": "diXd1GQ7Fem7",
        "outputId": "67daa1ac-055d-4b72-abd5-8b8120709c08"
      },
      "outputs": [
        {
          "name": "stdout",
          "output_type": "stream",
          "text": [
            "Mean of the weight column: 220.67326732673268\n",
            "Standard deviation of the weight column: 26.616718081006614\n",
            "----------------------------------------------------------------------\n",
            "The sample mean is greater than the original mean\n",
            "\n",
            "The sample mean = 223.6\n",
            "The weights mean = 220.67326732673268\n",
            "Difference between original and sample means = 2.92673267326731\n",
            "----------------------------------------------------------------------\n",
            "0      220.557\n",
            "1      220.342\n",
            "2      218.675\n",
            "3      220.818\n",
            "4      219.599\n",
            "        ...   \n",
            "995    220.624\n",
            "996    221.659\n",
            "997    220.416\n",
            "998    220.594\n",
            "999    220.741\n",
            "Length: 1000, dtype: float64\n",
            "----------------------------------------------------------------------\n",
            "The sample mean is less than the weights mean\n",
            "The sample std is less than the weights std\n",
            "\n",
            "The mean of sample: 220.468\n",
            "The mean of weights: 220.67326732673268\n",
            "The standard deviation of sample: 26.26497622309984\n",
            "The standard deviation of weights: 26.643110470317723\n"
          ]
        }
      ],
      "source": [
        "# 3. Find out the mean and standard deviation of the weight column.\n",
        "print(\"Mean of the weight column:\", np.mean(population['Weight']))\n",
        "print(\"Standard deviation of the weight column:\", np.std(population['Weight']))\n",
        "print(\"----------------------------------------------------------------------\")\n",
        "\n",
        "\n",
        "# 4. Take a sample size of 30 members from the dataset (weight column). Find out the mean of sample. Compare with original mean and give comment.\n",
        "weights = population['Weight']\n",
        "\n",
        "sample = np.random.choice(weights, 30, replace=False)\n",
        "\n",
        "sample_mean = sample.mean()\n",
        "weights_mean = weights.mean()\n",
        "\n",
        "if sample_mean == weights_mean:\n",
        "  print(\"The sample mean is equal to the original mean\")\n",
        "elif sample_mean > weights_mean:\n",
        "  print(\"The sample mean is greater than the original mean\")\n",
        "else:\n",
        "  print(\"The sample mean is less than the original mean\")\n",
        "\n",
        "print()\n",
        "print(\"The sample mean =\", sample_mean)\n",
        "print(\"The weights mean =\", weights_mean)\n",
        "print(\"Difference between original and sample means =\", abs(weights_mean - sample_mean))\n",
        "\n",
        "print(\"----------------------------------------------------------------------\")\n",
        "\n",
        "# 5.Create 1000 such samples and find out the mean values.Assign it to a variable and store the mean values in a Series using Pandas.\n",
        "weights = population['Weight']\n",
        "sample = np.random.choice(weights, 1000)\n",
        "\n",
        "list_mean = []\n",
        "for i in sample:\n",
        "    sample = np.random.choice(weights, 1000)\n",
        "    sample_mean = sample.mean()\n",
        "    list_mean.append(sample_mean)\n",
        "\n",
        "\n",
        "series = pd.Series(list_mean)\n",
        "print(series)\n",
        "\n",
        "print(\"----------------------------------------------------------------------\")\n",
        "\n",
        "# 6.Find out the mean and standard deviation of all the 1000 samples.\n",
        "# Compare with original mean and standard deviation. Comment your results\n",
        "weights = population['Weight']\n",
        "weights_mean = weights.mean()\n",
        "weights_std = weights.std()\n",
        "\n",
        "sample = np.random.choice(weights, 1000)\n",
        "sample_mean = sample.mean()\n",
        "sample_std = sample.std()\n",
        "\n",
        "if sample_mean == weights_mean:\n",
        "  print(\"The sample mean is equal to the weights mean\")\n",
        "elif sample_mean > weights_mean:\n",
        "  print(\"The sample mean is greater than the weights mean\")\n",
        "else:\n",
        "  print(\"The sample mean is less than the weights mean\")\n",
        "\n",
        "if sample_std == weights_std:\n",
        "  print(\"The sample std is equal to the weights std\")\n",
        "elif sample_std > weights_std:\n",
        "  print(\"The sample std is greater than the weights std\")\n",
        "else:\n",
        "  print(\"The sample std is less than the weights std\")\n",
        "\n",
        "print()\n",
        "print(\"The mean of sample:\", sample_mean)\n",
        "print(\"The mean of weights:\", weights_mean)\n",
        "print(\"The standard deviation of sample:\", sample_std)\n",
        "print(\"The standard deviation of weights:\", weights_std)\n",
        "\n",
        "np.random.seed(42)"
      ]
    },
    {
      "cell_type": "markdown",
      "metadata": {
        "pycharm": {
          "name": "#%% md\n"
        },
        "id": "GLWEfPzUFem7"
      },
      "source": [
        "---\n",
        "\n",
        "### Evaluation (Keep it!)\n",
        "\n",
        "| Question | Mark     | Comment   \n",
        "|:-------:|:--------:|:----------------------\n",
        "| 1       |   30/30    |     \n",
        "| 2       |   20/20 |\n",
        "| 3       |   10/10    |     \n",
        "| 4       |   10/10 |\n",
        "| 5       |   30/30    |        \n",
        "|**Total**|**100/100**  |"
      ]
    }
  ],
  "metadata": {
    "kernelspec": {
      "display_name": "Python 3 (ipykernel)",
      "language": "python",
      "name": "python3"
    },
    "language_info": {
      "codemirror_mode": {
        "name": "ipython",
        "version": 3
      },
      "file_extension": ".py",
      "mimetype": "text/x-python",
      "name": "python",
      "nbconvert_exporter": "python",
      "pygments_lexer": "ipython3",
      "version": "3.9.12"
    },
    "colab": {
      "provenance": []
    }
  },
  "nbformat": 4,
  "nbformat_minor": 0
}